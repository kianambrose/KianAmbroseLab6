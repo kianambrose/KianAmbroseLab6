{
 "cells": [
  {
   "cell_type": "markdown",
   "id": "5bec01d4",
   "metadata": {},
   "source": [
    "<H3 align = \"right\">Spring 2023 ASSIGNMENT_NAME_HERE</H3>\n",
    "\n",
    "## Group Number: number_here\n",
    "\n",
    "## Names of Student in Group:\n",
    "- Name: FirstName1 LastName1\n",
    "- Name: FirstName2 LastName2\n",
    "- Name: FirstName3 LastName3"
   ]
  },
  {
   "cell_type": "code",
   "execution_count": null,
   "id": "0515ac07",
   "metadata": {},
   "outputs": [],
   "source": [
    "##############################################\n",
    "## All Packages Needed for this Assignmnent ##\n",
    "##############################################\n",
    "\n",
    "import numpy as np"
   ]
  },
  {
   "cell_type": "markdown",
   "id": "74760cfa",
   "metadata": {},
   "source": [
    "---  \n",
    "# Question 1\n",
    "\n",
    "Contributions from Question 1:\n",
    "- FirstName1 LastName1 wrote the initial code\n",
    "- FirstName2 LastName2 checked the code for errors\n",
    "- FirstName3 LastName3 attempted the problem to double check FirstName1's work"
   ]
  },
  {
   "cell_type": "code",
   "execution_count": 5,
   "id": "1187bd0a",
   "metadata": {},
   "outputs": [
    {
     "data": {
      "text/plain": "2.0"
     },
     "execution_count": 5,
     "metadata": {},
     "output_type": "execute_result"
    }
   ],
   "source": [
    "##############################\n",
    "def SymmDiff(f,a,h):\n",
    "    return (f(a+h)-f(a-h))/(2*h)\n",
    "SymmDiff(lambda x: x**2,1,0.5)\n",
    "##############################"
   ]
  },
  {
   "cell_type": "code",
   "execution_count": null,
   "outputs": [],
   "source": [],
   "metadata": {
    "collapsed": false
   }
  },
  {
   "cell_type": "code",
   "execution_count": 7,
   "outputs": [
    {
     "name": "stdout",
     "output_type": "stream",
     "text": [
      "1.0\n",
      "1.0\n",
      "1.0\n",
      "1.0\n",
      "1.0\n",
      "1.0\n",
      "1.0\n",
      "1.0\n",
      "1.0\n",
      "1.0\n"
     ]
    }
   ],
   "source": [
    "hList=[-0.5,-0.4,-0.3,-0.2,-0.1,0.1,0.2,0.3,0.4,0.5]\n",
    "for item in hList:\n",
    "    first_func=SymmDiff(lambda x: x**2+x,0, item)\n",
    "    print(first_func)\n",
    "    #The derivative of f at a=0 is 1 which is the same as value that the SymmDiff approaches."
   ],
   "metadata": {
    "collapsed": false
   }
  },
  {
   "cell_type": "code",
   "execution_count": 8,
   "outputs": [
    {
     "name": "stdout",
     "output_type": "stream",
     "text": [
      "-0.0\n",
      "-0.0\n",
      "-0.0\n",
      "-0.0\n",
      "-0.0\n",
      "0.0\n",
      "0.0\n",
      "0.0\n",
      "0.0\n",
      "0.0\n"
     ]
    }
   ],
   "source": [
    "for item in hList:\n",
    "    second_func = SymmDiff(lambda x: abs(x), 0, item)\n",
    "    print(second_func)\n",
    "#The derivative of |x| does not exist at 0, however, the output of SymmDiff is 0."
   ],
   "metadata": {
    "collapsed": false
   }
  },
  {
   "cell_type": "code",
   "execution_count": 11,
   "outputs": [
    {
     "name": "stdout",
     "output_type": "stream",
     "text": [
      "0.958851077208406\n",
      "0.9735458557716262\n",
      "0.9850673555377986\n",
      "0.9933466539753061\n",
      "0.9983341664682815\n",
      "0.9983341664682815\n",
      "0.9933466539753061\n",
      "0.9850673555377986\n",
      "0.9735458557716262\n",
      "0.958851077208406\n"
     ]
    }
   ],
   "source": [
    "import numpy as np\n",
    "for item in hList:\n",
    "    third_func = SymmDiff(lambda x: np.sin(x), 0, item)\n",
    "    print(third_func)\n",
    "#The derivative of sin(x) at pi is 1 and SymmDiff of sin(x) at a=0 approaches 1."
   ],
   "metadata": {
    "collapsed": false
   }
  },
  {
   "cell_type": "code",
   "execution_count": null,
   "outputs": [],
   "source": [],
   "metadata": {
    "collapsed": false
   }
  }
 ],
 "metadata": {
  "kernelspec": {
   "display_name": "Python 3",
   "language": "python",
   "name": "python3"
  },
  "language_info": {
   "codemirror_mode": {
    "name": "ipython",
    "version": 3
   },
   "file_extension": ".py",
   "mimetype": "text/x-python",
   "name": "python",
   "nbconvert_exporter": "python",
   "pygments_lexer": "ipython3",
   "version": "3.8.8"
  }
 },
 "nbformat": 4,
 "nbformat_minor": 5
}
